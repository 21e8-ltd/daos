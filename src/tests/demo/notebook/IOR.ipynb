{
 "cells": [
  {
   "cell_type": "code",
   "execution_count": 1,
   "metadata": {
    "code_folding": []
   },
   "outputs": [],
   "source": [
    "# Initial imports, nothing interesting\n",
    "import sys\n",
    "import time\n",
    "import os\n",
    "sys.path.append('/home/daos/demo/script')\n",
    "from demo import setup_ior, teardown_ior\n",
    "from demo import PoolDemo, ContDemo\n",
    "from demo import run_ior_256B, run_ior_1MiB, trigger_wait_aggregation"
   ]
  },
  {
   "cell_type": "code",
   "execution_count": 2,
   "metadata": {
    "code_folding": [],
    "scrolled": true
   },
   "outputs": [
    {
     "name": "stdout",
     "output_type": "stream",
     "text": [
      "[1/5] Setup DAOS Pool\n",
      "\tCreated pool 1B1CF7C9-06C6-472A-A8F7-AF371A6B37FD\n",
      "\tAEP Space:\n",
      "\t\tTotal: 18.0GB\n",
      "\t\tUsed: 0.0GB (0.0%)\n",
      "\tNVMe Space:\n",
      "\t\tTotal: 18.0GB\n",
      "\t\tUsed: 0.0GB (0.0%)\n",
      "\tCreated container 0C8250A8-816B-11E9-8972-3DACF697FC86\n",
      "[1/5] COMPLETED\n"
     ]
    }
   ],
   "source": [
    "# Allocate DAOS Pool & Create container\n",
    "print(\"[1/5] Setup DAOS Pool\")\n",
    "pool = setup_ior()\n",
    "cont = pool.new_cont()\n",
    "print(\"[1/5] COMPLETED\")"
   ]
  },
  {
   "cell_type": "code",
   "execution_count": 3,
   "metadata": {},
   "outputs": [
    {
     "name": "stdout",
     "output_type": "stream",
     "text": [
      "[2/5] Run IOR/256B\n",
      "\t\twrite@0.1K IOPS\n",
      "\t\tread@0.11K IOPS\n",
      "\t\twrite@0.12K IOPS\n",
      "\t\tread@0.12K IOPS\n",
      "[2/5] COMPLETED\n",
      "[3/5] Trigger aggregation\n",
      "[3/5] COMPLETED\n",
      "[4/5] Run IOR/1MB\n",
      "\t\twrite@44.07MiB/s\n",
      "\t\tread@78.38MiB/s\n",
      "\t\twrite@44.07MiB/s\n",
      "\t\tread@78.38MiB/s\n",
      "\tAEP Space:\n",
      "\t\tTotal: 18.0GB\n",
      "\t\tUsed: 0.0GB (0.2%)\n",
      "\tNVMe Space:\n",
      "\t\tTotal: 18.0GB\n",
      "\t\tUsed: 0.0GB (0.1%)\n",
      "[4/5] COMPLETED\n"
     ]
    }
   ],
   "source": [
    "# Run IOR with 256B tsize\n",
    "print(\"[2/5] Run IOR/256B\")\n",
    "run_ior_256B(pool, cont)\n",
    "print(\"[2/5] COMPLETED\")\n",
    "# Trigger aggregation & show space usage\n",
    "print(\"[3/5] Trigger aggregation\")\n",
    "trigger_wait_aggregation(cont)\n",
    "print(\"[3/5] COMPLETED\")\n",
    "# Run ior with 1MB tsize\n",
    "print(\"[4/5] Run IOR/1MB\")\n",
    "run_ior_1MiB(pool, cont)\n",
    "# print final space usage\n",
    "time.sleep(2)\n",
    "pool.stat(show=True)\n",
    "print(\"[4/5] COMPLETED\")"
   ]
  },
  {
   "cell_type": "code",
   "execution_count": null,
   "metadata": {},
   "outputs": [],
   "source": [
    "# Shutdown\n",
    "print(\"[5/5] Teardown\")\n",
    "cont = None\n",
    "pool = None\n",
    "teardown_ior()\n",
    "print(\"[5/5] COMPLETED\")"
   ]
  }
 ],
 "metadata": {
  "kernelspec": {
   "display_name": "Python 3",
   "language": "python",
   "name": "python3"
  },
  "language_info": {
   "codemirror_mode": {
    "name": "ipython",
    "version": 3
   },
   "file_extension": ".py",
   "mimetype": "text/x-python",
   "name": "python",
   "nbconvert_exporter": "python",
   "pygments_lexer": "ipython3",
   "version": "3.7.3"
  }
 },
 "nbformat": 4,
 "nbformat_minor": 2
}
